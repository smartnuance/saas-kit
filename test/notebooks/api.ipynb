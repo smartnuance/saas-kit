{
 "cells": [
  {
   "cell_type": "code",
   "execution_count": null,
   "metadata": {},
   "outputs": [],
   "source": [
    "import requests\n",
    "# from IPython.display import JSON\n",
    "from pprint import pprint\n",
    "JSON = pprint\n",
    "\n",
    "LOCAL = True\n",
    "\n",
    "url = f\"https://docker78406-saas-kit.jcloud.ik-server.com\"\n",
    "\n",
    "if LOCAL:\n",
    "    import os\n",
    "    from dotenv import load_dotenv\n",
    "\n",
    "    load_dotenv()\n",
    "    PORT = os.getenv(\"WEBBFF_SERVICE_PORT\")\n",
    "\n",
    "    url = f\"http://localhost:{PORT}\"\n",
    "\n",
    "# Default headers (extended with authorization when necessary)\n",
    "headers = {'Accept': 'application/json', 'Content-Type': 'application/json'}\n",
    "\n",
    "client = requests.session()"
   ]
  },
  {
   "cell_type": "markdown",
   "metadata": {},
   "source": [
    "## Authentication service\n",
    "\n",
    "### Login"
   ]
  },
  {
   "cell_type": "code",
   "execution_count": null,
   "metadata": {},
   "outputs": [],
   "source": [
    "payload = {\n",
    "    'email': 'simon@smartnuance.com',\n",
    "    'password': 'f00bartest',\n",
    "    'instance': 'smartnuance.com'\n",
    "}\n",
    "response = client.post(f'{url}/auth/login', json=payload, headers=headers)\n",
    "print(response.status_code)\n",
    "\n",
    "login_res = response.json()\n",
    "JSON(login_res)\n"
   ]
  },
  {
   "cell_type": "markdown",
   "metadata": {},
   "source": [
    "### Refresh tokens"
   ]
  },
  {
   "cell_type": "code",
   "execution_count": null,
   "metadata": {},
   "outputs": [],
   "source": [
    "payload = {\n",
    "    'refreshToken': login_res[\"refreshToken\"],\n",
    "}\n",
    "response = client.post(f'{url}/auth/refresh', json=payload, headers=headers)\n",
    "print(response.status_code)\n",
    "\n",
    "refresh_res = response.json()\n",
    "login_res[\"accessToken\"] = refresh_res[\"accessToken\"]\n",
    "JSON(login_res[\"accessToken\"])\n"
   ]
  },
  {
   "cell_type": "markdown",
   "metadata": {},
   "source": [
    "### Revoke all tokens for a user"
   ]
  },
  {
   "cell_type": "code",
   "execution_count": null,
   "metadata": {},
   "outputs": [],
   "source": [
    "payload = {\n",
    "    'email': 'simon@smartnuance.com',\n",
    "}\n",
    "auth_header = {\n",
    "    'Authorization': f'Bearer {login_res[\"accessToken\"]}',\n",
    "}\n",
    "response = client.delete(f'{url}/auth/revoke/all', json=payload, headers=dict(headers, **auth_header))\n",
    "print(response.status_code)"
   ]
  },
  {
   "cell_type": "markdown",
   "metadata": {},
   "source": [
    "## Interact with event service\n",
    "\n",
    "### Create workshop"
   ]
  },
  {
   "cell_type": "code",
   "execution_count": null,
   "metadata": {},
   "outputs": [],
   "source": [
    "import random\n",
    "titles = ['Yoga', 'Salsa', 'Martial arts', 'Jam session', 'Pilates', 'Zumba', 'Belly dance']\n",
    "title = random.choice(titles)\n",
    "payload = {\n",
    "    'workshopInfo': {\n",
    "        'title': title,\n",
    "        'slug': title.replace(' ', '-').lower(),\n",
    "        'locationName': 'Ponto',\n",
    "        'locationURL': 'https://goo.gl/maps/wE3viADXW1CB7LNP9',\n",
    "    }\n",
    "}\n",
    "auth_header = {\n",
    "    'Authorization': f'Bearer {login_res[\"accessToken\"]}',\n",
    "    'role': 'event organizer',\n",
    "    'instance': 'c5263570ono4ui8qfhgg',\n",
    "}\n",
    "\n",
    "response = client.put(f'{url}/event/workshop', json=payload, headers=dict(headers, **auth_header))\n",
    "print(response.status_code)\n",
    "if response.status_code == 201:\n",
    "    workshop = response.json()\n",
    "    JSON(workshop)"
   ]
  },
  {
   "cell_type": "markdown",
   "metadata": {},
   "source": [
    "### List workshops"
   ]
  },
  {
   "cell_type": "code",
   "execution_count": null,
   "metadata": {},
   "outputs": [],
   "source": [
    "auth_header = {\n",
    "    'Authorization': f'Bearer {login_res[\"accessToken\"]}',\n",
    "    'role': 'event organizer',\n",
    "    'instance': 'c5263570ono4ui8qfhgg',\n",
    "}\n",
    "response = client.get(f'{url}/event/workshop/list', headers=dict(headers, **auth_header))\n",
    "print(response.status_code)\n",
    "if response.status_code == 200:\n",
    "    workshops = response.json()[\"items\"]\n",
    "    JSON(response.json())"
   ]
  },
  {
   "cell_type": "markdown",
   "metadata": {},
   "source": [
    "### Delete workshop"
   ]
  },
  {
   "cell_type": "code",
   "execution_count": null,
   "metadata": {},
   "outputs": [],
   "source": [
    "id = workshops[0][\"id\"]\n",
    "print(f\"delete {id}\")\n",
    "\n",
    "auth_header = {\n",
    "    'Authorization': f'Bearer {login_res[\"accessToken\"]}',\n",
    "    'role': 'event organizer',\n",
    "    'instance': 'c5263570ono4ui8qfhgg',\n",
    "}\n",
    "response = client.delete(f'{url}/event/workshop/{id}', headers=dict(headers, **auth_header))\n",
    "print(response.status_code)"
   ]
  }
 ],
 "metadata": {
  "interpreter": {
   "hash": "767d51c1340bd893661ea55ea3124f6de3c7a262a8b4abca0554b478b1e2ff90"
  },
  "kernelspec": {
   "display_name": "Python 3.10.4 64-bit",
   "language": "python",
   "name": "python3"
  },
  "language_info": {
   "codemirror_mode": {
    "name": "ipython",
    "version": 3
   },
   "file_extension": ".py",
   "mimetype": "text/x-python",
   "name": "python",
   "nbconvert_exporter": "python",
   "pygments_lexer": "ipython3",
   "version": "3.10.4"
  },
  "metadata": {
   "interpreter": {
    "hash": "e7370f93d1d0cde622a1f8e1c04877d8463912d04d973331ad4851f04de6915a"
   }
  }
 },
 "nbformat": 4,
 "nbformat_minor": 2
}
